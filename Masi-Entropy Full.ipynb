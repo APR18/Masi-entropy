{
 "cells": [
  {
   "cell_type": "code",
   "execution_count": 1,
   "metadata": {},
   "outputs": [],
   "source": [
    "import numpy as np\n",
    "import cv2\n",
    "import matplotlib.pyplot as plt"
   ]
  },
  {
   "cell_type": "code",
   "execution_count": null,
   "metadata": {},
   "outputs": [],
   "source": []
  },
  {
   "cell_type": "code",
   "execution_count": 2,
   "metadata": {},
   "outputs": [],
   "source": [
    "def get_thresholds():\n",
    "    thresholds_str = input(\"Enter the thresholds: \")\n",
    "    threshold_list = thresholds_str.split()\n",
    "    thresholds=[]\n",
    "    for threshold in threshold_list:\n",
    "        thresholds.append(int(threshold))\n",
    "    thresholds.insert(0,0)\n",
    "    thresholds.append(256)    \n",
    "    num_threshold = len(thresholds)\n",
    "    return thresholds,num_threshold\n"
   ]
  },
  {
   "cell_type": "code",
   "execution_count": 3,
   "metadata": {},
   "outputs": [],
   "source": [
    "def histCount():\n",
    "    path = input(\"Enter the path of the image(EX: C:\\\\....): \")\n",
    "    img_array = cv2.imread(path,cv2.IMREAD_GRAYSCALE)\n",
    "    histogram,bins = np.histogram(img_array,bins=256,range=(0,255))\n",
    "    return histogram,bins"
   ]
  },
  {
   "cell_type": "code",
   "execution_count": 4,
   "metadata": {},
   "outputs": [],
   "source": [
    "def plot_histogram(histogram,bin_edges):\n",
    "    plt.figure()\n",
    "    plt.title(\"Grayscale Histogram\")\n",
    "    plt.xlabel(\"grayscale value\")\n",
    "    plt.ylabel(\"pixels\")\n",
    "    plt.xlim([0,255])\n",
    "    plt.plot(bin_edges[0:-1],histogram)\n",
    "    plt.show()\n",
    "\n"
   ]
  },
  {
   "cell_type": "code",
   "execution_count": null,
   "metadata": {},
   "outputs": [],
   "source": []
  },
  {
   "cell_type": "code",
   "execution_count": 56,
   "metadata": {},
   "outputs": [],
   "source": [
    "def masi_entropy(thresholds,histogram):\n",
    "    r= -1\n",
    "    prob=[]\n",
    "    sum_ = np.sum(histogram)\n",
    "    #print(sum_)\n",
    "    \n",
    "    for value in histogram:\n",
    "        prob.append(value/sum_)\n",
    "        \n",
    "    thresholds.sort()\n",
    "    #print(thresholds)\n",
    "    classes = len(thresholds) -1\n",
    "    #print(classes)\n",
    "    #count = 0\n",
    "    w = {}\n",
    "    output = {}\n",
    "    for i in range(classes):\n",
    "        if thresholds[i+1] ==256:\n",
    "            w_values = w.values()\n",
    "            s=0\n",
    "            for value in w_values:\n",
    "                s+=value\n",
    "            w_gen = 1 - s \n",
    "        else:\n",
    "            w_gen = np.sum(prob[thresholds[i]:thresholds[i+1]])\n",
    "        w[\"w\"+str(i)] = w_gen\n",
    "        \n",
    "        out = 0\n",
    "        print(w)\n",
    "        if w[\"w\"+str(i)]> 0:\n",
    "            for j in range(thresholds[i],thresholds[i+1]):\n",
    "                if prob[j]> 0:\n",
    "                    out= out+(prob[j]/w[\"w\"+str(i)]) * np.log(prob[j]/w[\"w\"+str(i)])\n",
    "            output[\"out\"+str(i)] = out\n",
    "        #print(output)\n",
    "        #count+=1\n",
    "\n",
    "    \n",
    "    src = {}\n",
    "    for i in range(0,classes):\n",
    "        src[\"class\"+str(i)] = (1/(1-r)) * (np.log(1-(1-r)*(output[\"out\"+str(i)])))\n",
    "    print(src)\n",
    "    src_classes = src.values()\n",
    "    src_total = 0\n",
    "    for src_values in src_classes:\n",
    "        src_total+= src_values\n",
    "    return src_total\n"
   ]
  },
  {
   "cell_type": "code",
   "execution_count": 61,
   "metadata": {},
   "outputs": [],
   "source": [
    "def main():\n",
    "    histogram,bins = histCount()\n",
    "    plot_histogram(histogram,bins)\n",
    "    thresholds,num_threshold= get_thresholds()\n",
    "    sigma = masi_entropy(thresholds,histogram)\n",
    "    print(\"\\n\",sigma)"
   ]
  },
  {
   "cell_type": "code",
   "execution_count": 62,
   "metadata": {
    "scrolled": true
   },
   "outputs": [
    {
     "name": "stdout",
     "output_type": "stream",
     "text": [
      "Enter the path of the image(EX: C:\\....): C:\\\\Users\\\\Dark Viper\\\\Desktop\\\\polar.jpeg\n"
     ]
    },
    {
     "data": {
      "image/png": "[encoded data removed]",
      "text/plain": [
       "<Figure size 432x288 with 1 Axes>"
      ]
     },
     "metadata": {
      "needs_background": "light"
     },
     "output_type": "display_data"
    },
    {
     "name": "stdout",
     "output_type": "stream",
     "text": [
      "Enter the thresholds: 52 152\n",
      "{'w0': 0.09702009702009702}\n",
      "{'w0': 0.09702009702009702, 'w1': 0.8226306824437665}\n",
      "{'w0': 0.09702009702009702, 'w1': 0.8226306824437665, 'w2': 0.08034922053613647}\n",
      "{'class0': 1.0036281639772884, 'class1': 1.1524909978695859, 'class2': 1.0913240900079373}\n",
      "\n",
      " 3.2474432518548113\n"
     ]
    }
   ],
   "source": [
    "main()"
   ]
  },
  {
   "cell_type": "code",
   "execution_count": null,
   "metadata": {},
   "outputs": [],
   "source": []
  },
  {
   "cell_type": "code",
   "execution_count": null,
   "metadata": {},
   "outputs": [],
   "source": []
  },
  {
   "cell_type": "code",
   "execution_count": null,
   "metadata": {},
   "outputs": [],
   "source": [
    "\n"
   ]
  },
  {
   "cell_type": "code",
   "execution_count": null,
   "metadata": {},
   "outputs": [],
   "source": []
  },
  {
   "cell_type": "code",
   "execution_count": null,
   "metadata": {},
   "outputs": [],
   "source": []
  },
  {
   "cell_type": "code",
   "execution_count": null,
   "metadata": {},
   "outputs": [],
   "source": [
    "\n"
   ]
  },
  {
   "cell_type": "code",
   "execution_count": null,
   "metadata": {},
   "outputs": [],
   "source": []
  },
  {
   "cell_type": "code",
   "execution_count": null,
   "metadata": {},
   "outputs": [],
   "source": []
  },
  {
   "cell_type": "code",
   "execution_count": null,
   "metadata": {},
   "outputs": [],
   "source": []
  },
  {
   "cell_type": "code",
   "execution_count": null,
   "metadata": {},
   "outputs": [],
   "source": []
  },
  {
   "cell_type": "code",
   "execution_count": null,
   "metadata": {},
   "outputs": [],
   "source": [
    "\n"
   ]
  },
  {
   "cell_type": "code",
   "execution_count": null,
   "metadata": {},
   "outputs": [],
   "source": []
  }
 ],
 "metadata": {
  "kernelspec": {
   "display_name": "Python 3",
   "language": "python",
   "name": "python3"
  },
  "language_info": {
   "codemirror_mode": {
    "name": "ipython",
    "version": 3
   },
   "file_extension": ".py",
   "mimetype": "text/x-python",
   "name": "python",
   "nbconvert_exporter": "python",
   "pygments_lexer": "ipython3",
   "version": "3.7.7"
  }
 },
 "nbformat": 4,
 "nbformat_minor": 4
}
