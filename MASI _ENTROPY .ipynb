{
 "cells": [
  {
   "cell_type": "code",
   "execution_count": 100,
   "metadata": {},
   "outputs": [],
   "source": [
    "import numpy as np\n",
    "import cv2\n",
    "import matplotlib.pyplot as plt\n"
   ]
  },
  {
   "cell_type": "code",
   "execution_count": 141,
   "metadata": {},
   "outputs": [],
   "source": [
    "import math"
   ]
  },
  {
   "cell_type": "code",
   "execution_count": 184,
   "metadata": {},
   "outputs": [],
   "source": [
    "path = \"C:\\\\Users\\\\Dark Viper\\\\Desktop\\\\lena.tiff\"\n",
    "img = cv2.imread(path,cv2.IMREAD_GRAYSCALE)"
   ]
  },
  {
   "cell_type": "code",
   "execution_count": 185,
   "metadata": {},
   "outputs": [],
   "source": [
    "def Hist(img):\n",
    "    row, col = img.shape \n",
    "    y = np.zeros(256,dtype=float)\n",
    "    for i in range(0,row):\n",
    "        for j in range(0,col):\n",
    "             y[img[i,j]] += 1\n",
    "    x = np.arange(0,256)\n",
    "    plt.bar(x, y, color='b', width=5, align='edge', alpha=0.25)\n",
    "    plt.show()\n",
    "    return y"
   ]
  },
  {
   "cell_type": "code",
   "execution_count": null,
   "metadata": {},
   "outputs": [],
   "source": []
  },
  {
   "cell_type": "code",
   "execution_count": 186,
   "metadata": {},
   "outputs": [
    {
     "data": {
      "image/png": "[encoded data removed]",
      "text/plain": [
       "<Figure size 432x288 with 1 Axes>"
      ]
     },
     "metadata": {
      "needs_background": "light"
     },
     "output_type": "display_data"
    }
   ],
   "source": [
    "h=Hist(img)"
   ]
  },
  {
   "cell_type": "code",
   "execution_count": null,
   "metadata": {},
   "outputs": [],
   "source": []
  },
  {
   "cell_type": "code",
   "execution_count": 187,
   "metadata": {},
   "outputs": [
    {
     "name": "stdout",
     "output_type": "stream",
     "text": [
      "262144.0\n"
     ]
    }
   ],
   "source": [
    "cnt = 0\n",
    "for i in range(0, len(h)):\n",
    "    if h[i]>0:\n",
    "           cnt += h[i]\n",
    "            \n",
    "print(cnt)"
   ]
  },
  {
   "cell_type": "code",
   "execution_count": null,
   "metadata": {},
   "outputs": [],
   "source": []
  },
  {
   "cell_type": "code",
   "execution_count": 188,
   "metadata": {},
   "outputs": [],
   "source": [
    "prob=[]\n",
    "for i in range (len(h)):\n",
    "    h[i]=h[i]/cnt\n",
    "    prob.append(h[i])"
   ]
  },
  {
   "cell_type": "code",
   "execution_count": 206,
   "metadata": {},
   "outputs": [],
   "source": [
    "#prob\n"
   ]
  },
  {
   "cell_type": "code",
   "execution_count": 204,
   "metadata": {},
   "outputs": [],
   "source": [
    "def masi_entropy(thresholds,prob):\n",
    "    r= -1\n",
    "    #print(prob)\n",
    "    thresholds.insert(0,0)\n",
    "    thresholds.append(256)\n",
    "    #print(thresholds)\n",
    "    classes = len(thresholds) -1\n",
    "    #print(classes)\n",
    "    w = {}\n",
    "    output = {}\n",
    "    for i in range(classes):\n",
    "        if thresholds[i+1] ==256:\n",
    "            w_values = w.values()\n",
    "            s=0\n",
    "            for value in w_values:\n",
    "                s+=value\n",
    "            w_gen = 1 - s \n",
    "        else:\n",
    "            w_gen = np.sum(prob[thresholds[i]:thresholds[i+1]])\n",
    "        w[\"w\"+str(i)] = w_gen\n",
    "    #print(w)\n",
    "        out = 0\n",
    "        #print(w)\n",
    "        if w_gen > 0:\n",
    "            for j in range(thresholds[i],thresholds[i+1]):\n",
    "                if prob[j]> 0:\n",
    "                    out= out+(prob[j]/w[\"w\"+str(i)]) * np.log(prob[j]/w[\"w\"+str(i)])\n",
    "            output[\"out\"+str(i)] = out\n",
    "    #print(output)\n",
    "    src = {}\n",
    "    for i in range(0,classes):\n",
    "        src[\"class\"+str(i)] = (1/(1-r))*(np.log(1-(1-r)*(output[\"out\"+str(i)])))\n",
    "    #print(src)\n",
    "    src_classes = src.values()\n",
    "    print(src_classes)\n",
    "    src_total = 0\n",
    "    for src_values in src_classes:\n",
    "        src_total+= src_values\n",
    "    return src_total"
   ]
  },
  {
   "cell_type": "code",
   "execution_count": 205,
   "metadata": {},
   "outputs": [
    {
     "name": "stdout",
     "output_type": "stream",
     "text": [
      "dict_values([1.1101443790918746, 1.1188059078141497, 1.1047834272354389])\n",
      "3.3337337141414634\n"
     ]
    }
   ],
   "source": [
    "thresholds = [97,164]\n",
    "print(masi_entropy(thresholds,prob))"
   ]
  },
  {
   "cell_type": "code",
   "execution_count": 140,
   "metadata": {},
   "outputs": [
    {
     "data": {
      "text/plain": [
       "0.15854644775390625"
      ]
     },
     "execution_count": 140,
     "metadata": {},
     "output_type": "execute_result"
    }
   ],
   "source": []
  },
  {
   "cell_type": "code",
   "execution_count": 90,
   "metadata": {},
   "outputs": [
    {
     "name": "stdout",
     "output_type": "stream",
     "text": [
      "0.003719329833984375\n",
      "0.005344390869140625\n",
      "0.009033203125\n",
      "0.006160736083984375\n",
      "0.003452301025390625\n"
     ]
    }
   ],
   "source": []
  },
  {
   "cell_type": "code",
   "execution_count": 91,
   "metadata": {},
   "outputs": [],
   "source": []
  },
  {
   "cell_type": "code",
   "execution_count": 92,
   "metadata": {},
   "outputs": [
    {
     "data": {
      "text/plain": [
       "256"
      ]
     },
     "execution_count": 92,
     "metadata": {},
     "output_type": "execute_result"
    }
   ],
   "source": []
  },
  {
   "cell_type": "code",
   "execution_count": 40,
   "metadata": {},
   "outputs": [],
   "source": []
  },
  {
   "cell_type": "code",
   "execution_count": 60,
   "metadata": {},
   "outputs": [],
   "source": [
    "# threshold values\n",
    "# 97,164\n",
    "# 81,126,175\n",
    "# 72,110,146,182\n",
    "# 63,94,127,162,194"
   ]
  },
  {
   "cell_type": "code",
   "execution_count": null,
   "metadata": {},
   "outputs": [],
   "source": []
  },
  {
   "cell_type": "code",
   "execution_count": 142,
   "metadata": {},
   "outputs": [
    {
     "name": "stdout",
     "output_type": "stream",
     "text": [
      "11.958322571669738\n",
      "11.958322571669738\n"
     ]
    }
   ],
   "source": [
    "print(np.log(156111))\n"
   ]
  },
  {
   "cell_type": "code",
   "execution_count": null,
   "metadata": {},
   "outputs": [],
   "source": []
  },
  {
   "cell_type": "code",
   "execution_count": null,
   "metadata": {},
   "outputs": [],
   "source": []
  },
  {
   "cell_type": "code",
   "execution_count": 26,
   "metadata": {},
   "outputs": [],
   "source": [
    "#path = \"C:\\\\Users\\\\Dark Viper\\\\Desktop\\\\lena.tiff\"\n",
    "#img = cv2.imread(path,cv2.IMREAD_GRAYSCALE)"
   ]
  },
  {
   "cell_type": "code",
   "execution_count": 27,
   "metadata": {},
   "outputs": [],
   "source": [
    " #cv2_result = cv2.calcHist([img],[0],None,[256],[0,256])"
   ]
  },
  {
   "cell_type": "code",
   "execution_count": null,
   "metadata": {},
   "outputs": [],
   "source": []
  }
 ],
 "metadata": {
  "kernelspec": {
   "display_name": "Python 3",
   "language": "python",
   "name": "python3"
  },
  "language_info": {
   "codemirror_mode": {
    "name": "ipython",
    "version": 3
   },
   "file_extension": ".py",
   "mimetype": "text/x-python",
   "name": "python",
   "nbconvert_exporter": "python",
   "pygments_lexer": "ipython3",
   "version": "3.7.7"
  }
 },
 "nbformat": 4,
 "nbformat_minor": 4
}
